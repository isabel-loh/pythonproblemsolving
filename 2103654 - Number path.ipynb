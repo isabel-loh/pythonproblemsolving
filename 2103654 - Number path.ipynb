{
 "cells": [
  {
   "cell_type": "markdown",
   "id": "319943ec-6aa1-4218-802d-5ac29396e284",
   "metadata": {},
   "source": [
    "## MA3K7: Assignment 4 - Number path\n",
    "### Student ID: 2103654\n",
    "\n",
    "### Implementing our recurrence relation"
   ]
  },
  {
   "cell_type": "code",
   "execution_count": 1,
   "id": "5a41bae1-abc7-445a-bd1d-6b2d512a2adf",
   "metadata": {},
   "outputs": [
    {
     "name": "stdout",
     "output_type": "stream",
     "text": [
      "Probability of landing on or past step number 25: 0.6666666865348816\n"
     ]
    },
    {
     "data": {
      "text/markdown": [
       "\n",
       "|$n$|Probability of landing on or past step $n$|\n",
       "|---|---|\n",
       "|2|0.5|\n",
       "|3|0.75|\n",
       "|4|0.625|\n",
       "|5|0.6875|\n",
       "|6|0.65625|\n",
       "|7|0.671875|\n",
       "|8|0.6640625|\n",
       "|9|0.66796875|\n",
       "|10|0.666015625|\n",
       "|11|0.6669921875|\n",
       "|12|0.66650390625|\n",
       "|13|0.666748046875|\n",
       "|14|0.6666259765625|\n",
       "|15|0.66668701171875|\n",
       "|16|0.666656494140625|\n",
       "|17|0.6666717529296875|\n",
       "|18|0.6666641235351562|\n",
       "|19|0.6666679382324219|\n",
       "|20|0.6666660308837891|\n",
       "|21|0.6666669845581055|\n",
       "|22|0.6666665077209473|\n",
       "|23|0.6666667461395264|\n",
       "|24|0.6666666269302368|\n",
       "|25|0.6666666865348816|\n"
      ],
      "text/plain": [
       "<IPython.core.display.Markdown object>"
      ]
     },
     "metadata": {},
     "output_type": "display_data"
    }
   ],
   "source": [
    "# recurrence relation of probabilities\n",
    "def prob(steps):\n",
    "    P = [0] * (steps + 1)\n",
    "    P[0] = 1    # start at tile 0 with certainty\n",
    "    P[1] = 0.5  # have a 50/50 chance of landing on 1 \n",
    "    \n",
    "    for i in range(2, steps + 1):\n",
    "        P[i] = 0.5 * P[i-1] + 0.5 * P[i-2]\n",
    "    \n",
    "    return P[steps]\n",
    "\n",
    "# calculate prob for tile 25\n",
    "probability = prob(24)\n",
    "print(\"Probability of landing on or past step number 25:\", probability)\n",
    "\n",
    "# create table for p(n) values\n",
    "from IPython.display import display, Markdown\n",
    "table = '''\n",
    "|$n$|Probability of landing on or past step $n$|\n",
    "|---|---|\n",
    "'''\n",
    "\n",
    "for i in range(1, 25):\n",
    "    table += f'|{i+1}|{prob(i)}|\\n'\n",
    "\n",
    "# display the table\n",
    "display(Markdown(table))"
   ]
  },
  {
   "cell_type": "markdown",
   "id": "81e96f73-4a50-4059-83f0-ef10a4cd582d",
   "metadata": {},
   "source": [
    "### Solving the recurrence relation"
   ]
  },
  {
   "cell_type": "code",
   "execution_count": 2,
   "id": "dee33d27-e7c9-4a7d-875c-b46510220741",
   "metadata": {},
   "outputs": [
    {
     "data": {
      "text/latex": [
       "$\\displaystyle 0.333333333333333 \\left(-0.5\\right)^{n} + 0.666666666666667 \\cdot 1.0^{n}$"
      ],
      "text/plain": [
       "0.333333333333333*(-0.5)**n + 0.666666666666667*1.0**n"
      ]
     },
     "execution_count": 2,
     "metadata": {},
     "output_type": "execute_result"
    }
   ],
   "source": [
    "# Symbolic solution a_n\n",
    "\n",
    "# symbolic solve characteristic eq.\n",
    "import sympy as sp\n",
    "from sympy.abc import m, x, y, n\n",
    "\n",
    "M = sp.solve(m**2 -0.5* m - 0.5, m)\n",
    "\n",
    "# symbolic solve linear system\n",
    "A = sp.Matrix([[1, 1], [M[0], M[1]], [M[0]**2, M[1]**2, ]])\n",
    "b = sp.Matrix([1,0.5])\n",
    "C,= sp.linsolve((A, b), x, y)\n",
    "\n",
    "def an(n):\n",
    "    return sum(C[i]*M[i]**n for i in range(2))\n",
    "\n",
    "an(n)"
   ]
  },
  {
   "cell_type": "markdown",
   "id": "66bf02f4-0cec-4379-af3f-c586ef309e84",
   "metadata": {},
   "source": [
    "This says that our recurrence equation solution is $p(n)=\\frac{1}{3} (-\\frac{1}{2}^n) + \\frac{2}{3}$."
   ]
  },
  {
   "cell_type": "markdown",
   "id": "b34d603e-680d-4437-a50c-863bbc1bc0f7",
   "metadata": {},
   "source": [
    "### Investigating recurrence relation"
   ]
  },
  {
   "cell_type": "code",
   "execution_count": 3,
   "id": "48c1dd23-e0d9-4f8c-b8cb-4696df0f4d19",
   "metadata": {
    "tags": []
   },
   "outputs": [
    {
     "data": {
      "text/plain": [
       "0.666666666666667"
      ]
     },
     "execution_count": 3,
     "metadata": {},
     "output_type": "execute_result"
    },
    {
     "data": {
      "image/png": "[encoded data removed]",
      "text/plain": [
       "<Figure size 432x288 with 1 Axes>"
      ]
     },
     "metadata": {
      "needs_background": "light"
     },
     "output_type": "display_data"
    }
   ],
   "source": [
    "# Plot recurrence relation\n",
    "import numpy as np\n",
    "import matplotlib.pyplot as plt\n",
    "%matplotlib inline\n",
    "\n",
    "A = np.array([0.5, 0.75])\n",
    "for i in np.arange(2,51):\n",
    "    a = 0.5*A[i-1]+0.5*A[i-2]\n",
    "    A = np.append(A,a)\n",
    "\n",
    "# plotting\n",
    "plt.plot(A)\n",
    "plt.xlabel('n')\n",
    "plt.ylabel('p(n)')\n",
    "plt.title('Recurrence relation plot')\n",
    "plt.grid('on')\n",
    "plt.savefig('recurrenceplot.png')\n",
    "A[49]"
   ]
  },
  {
   "cell_type": "markdown",
   "id": "1f114ff8-4851-41d4-b4bb-b3180d434d8b",
   "metadata": {},
   "source": [
    "### Consider a 4-sided die:"
   ]
  },
  {
   "cell_type": "code",
   "execution_count": 4,
   "id": "59eb52aa-9aa8-45df-8bf0-d65c2d53b02e",
   "metadata": {},
   "outputs": [
    {
     "name": "stdout",
     "output_type": "stream",
     "text": [
      "Probability of landing on or past step number 25: 0.39999238267585113\n"
     ]
    },
    {
     "data": {
      "text/markdown": [
       "\n",
       "|$n$|Probability of landing on or past step $n$|\n",
       "|---|---|\n",
       "|5|0.518798828125|\n",
       "|6|0.3603515625|\n",
       "|7|0.387939453125|\n",
       "|8|0.40679931640625|\n",
       "|9|0.4108428955078125|\n",
       "|10|0.3914833068847656|\n",
       "|11|0.39926624298095703|\n",
       "|12|0.4020979404449463|\n",
       "|13|0.40092259645462036|\n",
       "|14|0.3984425216913223|\n",
       "|15|0.4001823253929615|\n",
       "|16|0.4004113459959626|\n",
       "|17|0.3999896973837167|\n",
       "|18|0.3997564726159908|\n",
       "|19|0.4000849603471579|\n",
       "|20|0.400060619085707|\n",
       "|21|0.3999729373581431|\n",
       "|22|0.3999687473517497|\n",
       "|23|0.4000218160356894|\n",
       "|24|0.4000060299578223|\n",
       "|25|0.39999238267585113|\n"
      ],
      "text/plain": [
       "<IPython.core.display.Markdown object>"
      ]
     },
     "metadata": {},
     "output_type": "display_data"
    }
   ],
   "source": [
    "# recurrence relation of probabilities\n",
    "def prob(steps):\n",
    "    P = [0] * (steps + 1)\n",
    "    P[0] = 1    # start at tile 0 with certainty\n",
    "    P[1] = 0.25  # have a 1/4 chance of landing on 1 \n",
    "    P[2] = 1/4 * 1/4 + 1/4 #(1,1) or (2)\n",
    "    P[3] = 1/4 * 1/4 * 1/4 + 1/4*1/4 *2 + 1/4  #(1,1,1),(2,1), (1,2), (3)\n",
    "    \n",
    "    for i in range(2, steps + 1):\n",
    "        P[i] = 0.25 * P[i-1] + 0.25 * P[i-2] + 0.25 * P[i-3] + 0.25 * P[i-4]\n",
    "    \n",
    "    return P[steps]\n",
    "\n",
    "probability = prob(24)\n",
    "print(\"Probability of landing on or past step number 25:\", probability)\n",
    "\n",
    "from IPython.display import display, Markdown\n",
    "table = '''\n",
    "|$n$|Probability of landing on or past step $n$|\n",
    "|---|---|\n",
    "'''\n",
    "\n",
    "for i in range(4, 25):\n",
    "    table += f'|{i+1}|{prob(i)}|\\n'\n",
    "\n",
    "# Display the table\n",
    "display(Markdown(table))"
   ]
  },
  {
   "cell_type": "code",
   "execution_count": 5,
   "id": "cdbb9ee3-dd58-4ccf-a13f-360dac8bb29c",
   "metadata": {},
   "outputs": [
    {
     "name": "stdout",
     "output_type": "stream",
     "text": [
      "Probability of landing on or past step number 25: 0.8000000000000007\n"
     ]
    },
    {
     "data": {
      "text/markdown": [
       "\n",
       "|$n$|Probability of landing on or past step $n$|\n",
       "|---|---|\n",
       "|2|0.75|\n",
       "|3|0.8125|\n",
       "|4|0.796875|\n",
       "|5|0.80078125|\n",
       "|6|0.7998046875|\n",
       "|7|0.800048828125|\n",
       "|8|0.79998779296875|\n",
       "|9|0.8000030517578125|\n",
       "|10|0.7999992370605469|\n",
       "|11|0.8000001907348633|\n",
       "|12|0.7999999523162842|\n",
       "|13|0.800000011920929|\n",
       "|14|0.7999999970197678|\n",
       "|15|0.8000000007450581|\n",
       "|16|0.7999999998137355|\n",
       "|17|0.8000000000465661|\n",
       "|18|0.7999999999883585|\n",
       "|19|0.8000000000029104|\n",
       "|20|0.7999999999992724|\n",
       "|21|0.8000000000001819|\n",
       "|22|0.7999999999999545|\n",
       "|23|0.8000000000000114|\n",
       "|24|0.7999999999999972|\n",
       "|25|0.8000000000000007|\n"
      ],
      "text/plain": [
       "<IPython.core.display.Markdown object>"
      ]
     },
     "metadata": {},
     "output_type": "display_data"
    },
    {
     "data": {
      "text/plain": [
       "0.7916666666666667"
      ]
     },
     "execution_count": 5,
     "metadata": {},
     "output_type": "execute_result"
    },
    {
     "data": {
      "image/png": "[encoded data removed]",
      "text/plain": [
       "<Figure size 432x288 with 1 Axes>"
      ]
     },
     "metadata": {
      "needs_background": "light"
     },
     "output_type": "display_data"
    }
   ],
   "source": [
    "# recurrence relation of probabilities\n",
    "def prob(steps):\n",
    "    P = [0] * (steps + 1)\n",
    "    P[0] = 1    # start at tile 0 with certainty\n",
    "    P[1] = 0.75  # now have a 3/4 chance of landing on 1 \n",
    "    \n",
    "    for i in range(2, steps + 1):\n",
    "        P[i] = 0.75 * P[i-1] + 0.25 * P[i-2] #0.75 chance of tossing a 1 and 0.25 chance of tossing a 2\n",
    "    \n",
    "    return P[steps]\n",
    "\n",
    "probability = prob(24)\n",
    "print(\"Probability of landing on or past step number 25:\", probability)\n",
    "\n",
    "from IPython.display import display, Markdown\n",
    "table = '''\n",
    "|$n$|Probability of landing on or past step $n$|\n",
    "|---|---|\n",
    "'''\n",
    "\n",
    "for i in range(1, 25):\n",
    "    table += f'|{i+1}|{prob(i)}|\\n'\n",
    "\n",
    "# Display the table\n",
    "display(Markdown(table))\n",
    "\n",
    "# Plot recurrence relation\n",
    "import numpy as np\n",
    "import matplotlib.pyplot as plt\n",
    "%matplotlib inline\n",
    "\n",
    "A = np.array([0.75, 0.8125])\n",
    "for i in np.arange(2,51):\n",
    "    a = 0.5*A[i-1]+0.5*A[i-2]\n",
    "    A = np.append(A,a)\n",
    "\n",
    "plt.plot(A)\n",
    "plt.xlabel('n')\n",
    "plt.ylabel('p(n)')\n",
    "plt.title('Recurrence relation plot')\n",
    "plt.grid('on')\n",
    "plt.savefig('recurrenceplot.png')\n",
    "A[49]"
   ]
  }
 ],
 "metadata": {
  "kernelspec": {
   "display_name": "Python 3 (ipykernel)",
   "language": "python",
   "name": "python3"
  },
  "language_info": {
   "codemirror_mode": {
    "name": "ipython",
    "version": 3
   },
   "file_extension": ".py",
   "mimetype": "text/x-python",
   "name": "python",
   "nbconvert_exporter": "python",
   "pygments_lexer": "ipython3",
   "version": "3.9.7"
  }
 },
 "nbformat": 4,
 "nbformat_minor": 5
}
