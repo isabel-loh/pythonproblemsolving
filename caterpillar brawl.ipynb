{
 "cells": [
  {
   "cell_type": "markdown",
   "id": "6730ec0f-38bc-47ac-ba6a-69f459ab0deb",
   "metadata": {},
   "source": [
    "## MA3K7: Assignment 5 - Caterpillar Brawl\n",
    "### Student ID: 2103654\n",
    "\n",
    "### Implementing a brawl function"
   ]
  },
  {
   "cell_type": "code",
   "execution_count": 1,
   "id": "e92c2fae-875c-4723-ba45-5d9abc064769",
   "metadata": {},
   "outputs": [
    {
     "name": "stdout",
     "output_type": "stream",
     "text": [
      "Winner: 2189\n"
     ]
    }
   ],
   "source": [
    "# function that converts an integer to a string\n",
    "def int2array(num):\n",
    "    num_str = str(num)\n",
    "    \n",
    "    # array to store the digits\n",
    "    digits = []\n",
    "    \n",
    "    # iterate over each character\n",
    "    for char in num_str:\n",
    "        # convert the character to integer and append\n",
    "        digits.append(int(char))\n",
    "    \n",
    "    return digits\n",
    "\n",
    "# function that simulates two caterpillars brawling\n",
    "def caterpillarbrawl(caterpillar1, caterpillar2):\n",
    "    # convert the caterpillars to an array\n",
    "    cat1 = int2array(caterpillar1)\n",
    "    cat2 = int2array(caterpillar2)\n",
    "    \n",
    "    # while the fight is ongoing\n",
    "    while len(cat1) > 0 and len(cat2) > 0 :\n",
    "        \n",
    "        # tie\n",
    "        if cat1[0] == cat2[0]:\n",
    "            cat1 = cat1[1:]\n",
    "            cat2 = cat2[1:]\n",
    "        \n",
    "        # when caterpillar 1 wins the round\n",
    "        elif cat1[0] > cat2[0]:\n",
    "            cat1[0] -= cat2[0]\n",
    "            cat2 = cat2[1:]\n",
    "            \n",
    "        # caterpillar 2 wins the round\n",
    "        else:\n",
    "            cat2[0] -= cat1[0]\n",
    "            cat1 = cat1[1:]\n",
    "            \n",
    "    # caterpillar 1 has won        \n",
    "    if len(cat1) > 0:\n",
    "        return caterpillar1, caterpillar2\n",
    "    \n",
    "    # caterpillar 2 won\n",
    "    elif len(cat2) > 0:\n",
    "        return caterpillar2, caterpillar1\n",
    "    \n",
    "    # have a tie\n",
    "    else:\n",
    "        return \"Tie!\", None\n",
    "\n",
    "# example\n",
    "fighter1 = 4165\n",
    "fighter2 = 2189\n",
    "winner, loser = caterpillarbrawl(fighter1, fighter2)\n",
    "print(\"Winner:\", winner)"
   ]
  },
  {
   "cell_type": "code",
   "execution_count": 2,
   "id": "7b9330f1-4850-4256-9fc4-553090602618",
   "metadata": {},
   "outputs": [
    {
     "name": "stdout",
     "output_type": "stream",
     "text": [
      "2143 vs 2189 -> Winner: 2189\n",
      "2143 vs 4123 -> Winner: Tie!\n",
      "2143 vs 4165 -> Winner: 4165\n",
      "2143 vs 6145 -> Winner: 6145\n",
      "2143 vs 6187 -> Winner: 6187\n",
      "2143 vs 8129 -> Winner: 8129\n",
      "2143 vs 8167 -> Winner: 8167\n",
      "2189 vs 4123 -> Winner: 2189\n",
      "2189 vs 4165 -> Winner: 2189\n",
      "2189 vs 6145 -> Winner: 2189\n",
      "2189 vs 6187 -> Winner: 6187\n",
      "2189 vs 8129 -> Winner: Tie!\n",
      "2189 vs 8167 -> Winner: 8167\n",
      "4123 vs 4165 -> Winner: 4165\n",
      "4123 vs 6145 -> Winner: 6145\n",
      "4123 vs 6187 -> Winner: 6187\n",
      "4123 vs 8129 -> Winner: 8129\n",
      "4123 vs 8167 -> Winner: 8167\n",
      "4165 vs 6145 -> Winner: Tie!\n",
      "4165 vs 6187 -> Winner: 6187\n",
      "4165 vs 8129 -> Winner: 8129\n",
      "4165 vs 8167 -> Winner: 8167\n",
      "6145 vs 6187 -> Winner: 6187\n",
      "6145 vs 8129 -> Winner: 8129\n",
      "6145 vs 8167 -> Winner: 8167\n",
      "6187 vs 8129 -> Winner: 6187\n",
      "6187 vs 8167 -> Winner: Tie!\n",
      "8129 vs 8167 -> Winner: 8167\n",
      "\n",
      " Total Brawls: 28 \n",
      "\n"
     ]
    },
    {
     "data": {
      "text/markdown": [
       "|Caterpillar| Wins | Losses | Ties|\n",
       "|---|---|---|---|\n",
       "|2143|0|6|1|\n",
       "|2189|4|2|1|\n",
       "|4123|0|6|1|\n",
       "|4165|2|4|1|\n",
       "|6145|2|4|1|\n",
       "|6187|6|0|1|\n",
       "|8129|4|2|1|\n",
       "|8167|6|0|1|\n"
      ],
      "text/plain": [
       "<IPython.core.display.Markdown object>"
      ]
     },
     "metadata": {},
     "output_type": "display_data"
    }
   ],
   "source": [
    "# all length 4 caterpillars\n",
    "length4 = [2143, 2189, 4123, 4165, 6145, 6187, 8129, 8167]\n",
    "\n",
    "# dictionaries to keep track of wins, losses, ties\n",
    "wins = {caterpillar: 0 for caterpillar in length4}\n",
    "losses = {caterpillar: 0 for caterpillar in length4}\n",
    "ties = {caterpillar: 0 for caterpillar in length4}\n",
    "\n",
    "# create a count for the number of brawls\n",
    "totalbrawls = 0\n",
    "\n",
    "# simulate all length 4 caterpillars brawling against one another\n",
    "for i in range(len(length4)):\n",
    "    for j in range(i+1, len(length4)):\n",
    "        caterpillar1 = length4[i]\n",
    "        caterpillar2 = length4[j]\n",
    "        \n",
    "        winner, loser = caterpillarbrawl(caterpillar1, caterpillar2)\n",
    "        totalbrawls += 1\n",
    "        print(f\"{caterpillar1} vs {caterpillar2} -> Winner: {winner}\")\n",
    "        \n",
    "        if winner != \"Tie!\":\n",
    "            wins[winner] += 1\n",
    "            losses[loser] += 1\n",
    "            \n",
    "        else:\n",
    "            ties[caterpillar1] += 1\n",
    "            ties[caterpillar2] += 1\n",
    "    \n",
    "print('\\n',\"Total Brawls:\", totalbrawls, '\\n')\n",
    "\n",
    "# create table of win/loss/tie count\n",
    "from IPython.display import display, Markdown\n",
    "table = '''|Caterpillar| Wins | Losses | Ties|\n",
    "|---|---|---|---|\\n'''\n",
    "\n",
    "for caterpillar in length4:\n",
    "    table += f'|{caterpillar}|{wins[caterpillar]}|{losses[caterpillar]}|{ties[caterpillar]}|\\n'\n",
    "\n",
    "# display the table\n",
    "display(Markdown(table))"
   ]
  },
  {
   "cell_type": "markdown",
   "id": "9bcd09c5-9ca0-43f2-9341-4157f4925331",
   "metadata": {},
   "source": [
    "### Example where a shorter caterpillar wins!"
   ]
  },
  {
   "cell_type": "code",
   "execution_count": 3,
   "id": "0ea5aaef-3f65-4745-bcf2-5da7a524b777",
   "metadata": {},
   "outputs": [
    {
     "name": "stdout",
     "output_type": "stream",
     "text": [
      "Winner: 8167\n"
     ]
    }
   ],
   "source": [
    "winner, loser = caterpillarbrawl(8167, 92143)\n",
    "print(\"Winner:\", winner)"
   ]
  },
  {
   "cell_type": "markdown",
   "id": "59c6069b-eda7-4951-9d19-ef359276413b",
   "metadata": {},
   "source": [
    "### Extension: changing the rules of the brawl"
   ]
  },
  {
   "cell_type": "code",
   "execution_count": 4,
   "id": "b5af75d8-3a6f-4895-ad23-d711a2fb1c18",
   "metadata": {},
   "outputs": [
    {
     "name": "stdout",
     "output_type": "stream",
     "text": [
      "Winner: 2189\n"
     ]
    }
   ],
   "source": [
    "# function that converts an integer to a string\n",
    "def int2array(num):\n",
    "    num_str = str(num)\n",
    "    \n",
    "    # array to store the digits\n",
    "    digits = []\n",
    "    \n",
    "    # iterate over each character\n",
    "    for char in num_str:\n",
    "        # convert the character to integer and append\n",
    "        digits.append(int(char))\n",
    "    \n",
    "    return digits\n",
    "\n",
    "# function that simulates two caterpillars brawling\n",
    "def caterpillarbrawl2(caterpillar1, caterpillar2):\n",
    "    # convert the caterpillars to an array\n",
    "    cat1 = int2array(caterpillar1)\n",
    "    cat2 = int2array(caterpillar2)\n",
    "    \n",
    "    # while the fight is ongoing\n",
    "    while len(cat1) > 0 and len(cat2) > 0 :\n",
    "        \n",
    "        # tie\n",
    "        if cat1[0] == cat2[0]:\n",
    "            cat1 = cat1[1:]\n",
    "            cat2 = cat2[1:]\n",
    "        \n",
    "        # when caterpillar 1 wins the round\n",
    "        elif cat1[0] > cat2[0]:\n",
    "            cat1[0] += cat2[0]\n",
    "            cat2 = cat2[1:]\n",
    "            \n",
    "        # caterpillar 2 wins the round\n",
    "        else:\n",
    "            cat2[0] += cat1[0]\n",
    "            cat1 = cat1[1:]\n",
    "            \n",
    "    # caterpillar 1 has won        \n",
    "    if len(cat1) > 0:\n",
    "        return caterpillar1, caterpillar2\n",
    "    \n",
    "    # caterpillar 2 won\n",
    "    elif len(cat2) > 0:\n",
    "        return caterpillar2, caterpillar1\n",
    "    \n",
    "    # have a tie\n",
    "    else:\n",
    "        return \"Tie!\", None\n",
    "\n",
    "# example\n",
    "fighter1 = 4165\n",
    "fighter2 = 2189\n",
    "winner, loser = caterpillarbrawl2(fighter1, fighter2)\n",
    "print(\"Winner:\", winner)"
   ]
  },
  {
   "cell_type": "code",
   "execution_count": 5,
   "id": "3a204658-e2ad-4017-91d1-8d3fa6a872bf",
   "metadata": {},
   "outputs": [
    {
     "name": "stdout",
     "output_type": "stream",
     "text": [
      "2143 vs 2189 -> Winner: 2189\n",
      "2143 vs 4123 -> Winner: 4123\n",
      "2143 vs 4165 -> Winner: 4165\n",
      "2143 vs 6145 -> Winner: 6145\n",
      "2143 vs 6187 -> Winner: 6187\n",
      "2143 vs 8129 -> Winner: 8129\n",
      "2143 vs 8167 -> Winner: 8167\n",
      "2189 vs 4123 -> Winner: 2189\n",
      "2189 vs 4165 -> Winner: 2189\n",
      "2189 vs 6145 -> Winner: 6145\n",
      "2189 vs 6187 -> Winner: 6187\n",
      "2189 vs 8129 -> Winner: 8129\n",
      "2189 vs 8167 -> Winner: 8167\n",
      "4123 vs 4165 -> Winner: 4165\n",
      "4123 vs 6145 -> Winner: 6145\n",
      "4123 vs 6187 -> Winner: 6187\n",
      "4123 vs 8129 -> Winner: 8129\n",
      "4123 vs 8167 -> Winner: 8167\n",
      "4165 vs 6145 -> Winner: 6145\n",
      "4165 vs 6187 -> Winner: 6187\n",
      "4165 vs 8129 -> Winner: 8129\n",
      "4165 vs 8167 -> Winner: 8167\n",
      "6145 vs 6187 -> Winner: 6187\n",
      "6145 vs 8129 -> Winner: 8129\n",
      "6145 vs 8167 -> Winner: 8167\n",
      "6187 vs 8129 -> Winner: 8129\n",
      "6187 vs 8167 -> Winner: 8167\n",
      "8129 vs 8167 -> Winner: 8129\n",
      "\n",
      " Total Brawls: 28 \n",
      "\n"
     ]
    },
    {
     "data": {
      "text/markdown": [
       "|Caterpillar| Wins | Losses | Ties|\n",
       "|---|---|---|---|\n",
       "|2143|0|7|0|\n",
       "|2189|3|4|0|\n",
       "|4123|1|6|0|\n",
       "|4165|2|5|0|\n",
       "|6145|4|3|0|\n",
       "|6187|5|2|0|\n",
       "|8129|7|0|0|\n",
       "|8167|6|1|0|\n"
      ],
      "text/plain": [
       "<IPython.core.display.Markdown object>"
      ]
     },
     "metadata": {},
     "output_type": "display_data"
    }
   ],
   "source": [
    "totalbrawls2 = 0\n",
    "\n",
    "# dictionaries to keep track of wins, losses, ties\n",
    "wins2 = {caterpillar: 0 for caterpillar in length4}\n",
    "losses2 = {caterpillar: 0 for caterpillar in length4}\n",
    "ties2 = {caterpillar: 0 for caterpillar in length4}\n",
    "\n",
    "# simulate all length 4 caterpillars brawling against one another\n",
    "for i in range(len(length4)):\n",
    "    for j in range(i+1, len(length4)):\n",
    "        caterpillar1 = length4[i]\n",
    "        caterpillar2 = length4[j]\n",
    "        \n",
    "        winner, loser = caterpillarbrawl2(caterpillar1, caterpillar2)\n",
    "        totalbrawls2 += 1\n",
    "        print(f\"{caterpillar1} vs {caterpillar2} -> Winner: {winner}\")\n",
    "        \n",
    "        if winner != \"Tie!\":\n",
    "            wins2[winner] += 1\n",
    "            losses2[loser] += 1\n",
    "            \n",
    "        else:\n",
    "            ties2[caterpillar1] += 1\n",
    "            ties2[caterpillar2] += 1\n",
    "    \n",
    "print('\\n',\"Total Brawls:\", totalbrawls2, '\\n')\n",
    "\n",
    "# create table of win/loss/tie count\n",
    "from IPython.display import display, Markdown\n",
    "table = '''|Caterpillar| Wins | Losses | Ties|\n",
    "|---|---|---|---|\\n'''\n",
    "\n",
    "for caterpillar in length4:\n",
    "    table += f'|{caterpillar}|{wins2[caterpillar]}|{losses2[caterpillar]}|{ties2[caterpillar]}|\\n'\n",
    "\n",
    "# display the table\n",
    "display(Markdown(table))"
   ]
  },
  {
   "cell_type": "code",
   "execution_count": 6,
   "id": "074e4efb-d830-4883-b25e-7eb2d6658e69",
   "metadata": {},
   "outputs": [
    {
     "name": "stdout",
     "output_type": "stream",
     "text": [
      "1234 vs 1432 -> Winner: 1432\n",
      "1234 vs 2143 -> Winner: 2143\n",
      "1234 vs 2341 -> Winner: 2341\n",
      "1234 vs 3412 -> Winner: 3412\n",
      "1234 vs 3214 -> Winner: 3214\n",
      "1234 vs 4321 -> Winner: 4321\n",
      "1234 vs 4123 -> Winner: 4123\n",
      "1432 vs 2143 -> Winner: 1432\n",
      "1432 vs 2341 -> Winner: 1432\n",
      "1432 vs 3412 -> Winner: 3412\n",
      "1432 vs 3214 -> Winner: 1432\n",
      "1432 vs 4321 -> Winner: 4321\n",
      "1432 vs 4123 -> Winner: 4123\n",
      "2143 vs 2341 -> Winner: 2341\n",
      "2143 vs 3412 -> Winner: 3412\n",
      "2143 vs 3214 -> Winner: 3214\n",
      "2143 vs 4321 -> Winner: 4321\n",
      "2143 vs 4123 -> Winner: 4123\n",
      "2341 vs 3412 -> Winner: 3412\n",
      "2341 vs 3214 -> Winner: 3214\n",
      "2341 vs 4321 -> Winner: 4321\n",
      "2341 vs 4123 -> Winner: 4123\n",
      "3412 vs 3214 -> Winner: 3412\n",
      "3412 vs 4321 -> Winner: 4321\n",
      "3412 vs 4123 -> Winner: 4123\n",
      "3214 vs 4321 -> Winner: 4321\n",
      "3214 vs 4123 -> Winner: 4123\n",
      "4321 vs 4123 -> Winner: 4321\n",
      "\n",
      " Total Brawls: 28 \n",
      "\n"
     ]
    },
    {
     "data": {
      "text/markdown": [
       "|Caterpillar| Wins | Losses | Ties|\n",
       "|---|---|---|---|\n",
       "|1234|0|7|0|\n",
       "|1432|4|3|0|\n",
       "|2143|1|6|0|\n",
       "|2341|2|5|0|\n",
       "|3412|5|2|0|\n",
       "|3214|3|4|0|\n",
       "|4321|7|0|0|\n",
       "|4123|6|1|0|\n"
      ],
      "text/plain": [
       "<IPython.core.display.Markdown object>"
      ]
     },
     "metadata": {},
     "output_type": "display_data"
    }
   ],
   "source": [
    "minigrid = [1234, 1432, 2143, 2341, 3412, 3214, 4321, 4123]\n",
    "\n",
    "\n",
    "totalbrawls3 = 0\n",
    "\n",
    "# dictionaries to keep track of wins, losses, ties\n",
    "wins3 = {caterpillar: 0 for caterpillar in minigrid}\n",
    "losses3 = {caterpillar: 0 for caterpillar in minigrid}\n",
    "ties3 = {caterpillar: 0 for caterpillar in minigrid}\n",
    "\n",
    "# simulate all length 4 caterpillars brawling against one another\n",
    "for i in range(len(minigrid)):\n",
    "    for j in range(i+1, len(minigrid)):\n",
    "        caterpillar1 = minigrid[i]\n",
    "        caterpillar2 = minigrid[j]\n",
    "        \n",
    "        winner, loser = caterpillarbrawl2(caterpillar1, caterpillar2)\n",
    "        totalbrawls3 += 1\n",
    "        print(f\"{caterpillar1} vs {caterpillar2} -> Winner: {winner}\")\n",
    "        \n",
    "        if winner != \"Tie!\":\n",
    "            wins3[winner] += 1\n",
    "            losses3[loser] += 1\n",
    "            \n",
    "        else:\n",
    "            ties3[caterpillar1] += 1\n",
    "            ties3[caterpillar2] += 1\n",
    "    \n",
    "print('\\n',\"Total Brawls:\", totalbrawls3, '\\n')\n",
    "\n",
    "# create table of win/loss/tie count\n",
    "from IPython.display import display, Markdown\n",
    "table = '''|Caterpillar| Wins | Losses | Ties|\n",
    "|---|---|---|---|\\n'''\n",
    "\n",
    "for caterpillar in minigrid:\n",
    "    table += f'|{caterpillar}|{wins3[caterpillar]}|{losses3[caterpillar]}|{ties3[caterpillar]}|\\n'\n",
    "\n",
    "# display the table\n",
    "display(Markdown(table))"
   ]
  }
 ],
 "metadata": {
  "kernelspec": {
   "display_name": "Python 3 (ipykernel)",
   "language": "python",
   "name": "python3"
  },
  "language_info": {
   "codemirror_mode": {
    "name": "ipython",
    "version": 3
   },
   "file_extension": ".py",
   "mimetype": "text/x-python",
   "name": "python",
   "nbconvert_exporter": "python",
   "pygments_lexer": "ipython3",
   "version": "3.9.7"
  }
 },
 "nbformat": 4,
 "nbformat_minor": 5
}
