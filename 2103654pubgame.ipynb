{
 "cells": [
  {
   "cell_type": "markdown",
   "id": "1d1eb30f-7f39-426e-81dd-ef2eb196620d",
   "metadata": {},
   "source": [
    "## MA3K7: Big Mini Project rubric\n",
    "### Problem 3: A pub game\n",
    "#### Student ID: 2103654\n",
    "\n",
    "#### Interactive game - play below!"
   ]
  },
  {
   "cell_type": "code",
   "execution_count": 1,
   "id": "ea5e4fc9-f21e-407d-a2ab-731c24adc0f6",
   "metadata": {},
   "outputs": [
    {
     "name": "stdin",
     "output_type": "stream",
     "text": [
      "Enter the number of glasses:  6\n"
     ]
    },
    {
     "name": "stdout",
     "output_type": "stream",
     "text": [
      "Ali's turn:\n",
      "Glasses: [0, 0, 0, 0, 0, 0]\n"
     ]
    },
    {
     "name": "stdin",
     "output_type": "stream",
     "text": [
      "Enter the volumes of water to pour into the glasses (e.g., for n=4, '0.1 0 0.2 0.2'):  0.17 0 0.17 0 0.16\n"
     ]
    },
    {
     "name": "stdout",
     "output_type": "stream",
     "text": [
      "Beth's turn:\n",
      "Glasses: [0.17, 0.0, 0.17, 0.0, 0.16, 0]\n"
     ]
    },
    {
     "name": "stdin",
     "output_type": "stream",
     "text": [
      "Enter the index of the first glass to empty (0 to n-1):  0\n"
     ]
    },
    {
     "name": "stdout",
     "output_type": "stream",
     "text": [
      "Ali's turn:\n",
      "Glasses: [0, 0, 0.17, 0.0, 0.16, 0]\n"
     ]
    },
    {
     "name": "stdin",
     "output_type": "stream",
     "text": [
      "Enter the volumes of water to pour into the glasses (e.g., for n=4, '0.1 0 0.2 0.2'):  0.27 0 0.11 0 0.12\n"
     ]
    },
    {
     "name": "stdout",
     "output_type": "stream",
     "text": [
      "Beth's turn:\n",
      "Glasses: [0.27, 0.0, 0.28, 0.0, 0.28, 0]\n"
     ]
    },
    {
     "name": "stdin",
     "output_type": "stream",
     "text": [
      "Enter the index of the first glass to empty (0 to n-1):  2\n"
     ]
    },
    {
     "name": "stdout",
     "output_type": "stream",
     "text": [
      "Ali's turn:\n",
      "Glasses: [0.27, 0.0, 0, 0, 0.28, 0]\n"
     ]
    },
    {
     "name": "stdin",
     "output_type": "stream",
     "text": [
      "Enter the volumes of water to pour into the glasses (e.g., for n=4, '0.1 0 0.2 0.2'):  0.25 0 0 0 0.25\n"
     ]
    },
    {
     "name": "stdout",
     "output_type": "stream",
     "text": [
      "Beth's turn:\n",
      "Glasses: [0.52, 0.0, 0.0, 0.0, 0.53, 0]\n"
     ]
    },
    {
     "name": "stdin",
     "output_type": "stream",
     "text": [
      "Enter the index of the first glass to empty (0 to n-1):  0\n"
     ]
    },
    {
     "name": "stdout",
     "output_type": "stream",
     "text": [
      "Ali's turn:\n",
      "Glasses: [0, 0, 0.0, 0.0, 0.53, 0]\n"
     ]
    },
    {
     "name": "stdin",
     "output_type": "stream",
     "text": [
      "Enter the volumes of water to pour into the glasses (e.g., for n=4, '0.1 0 0.2 0.2'):  0 0 0 0 0.5\n"
     ]
    },
    {
     "name": "stdout",
     "output_type": "stream",
     "text": [
      "Glasses: [0.0, 0.0, 0.0, 0.0, 1.03, 0]\n",
      "Ali wins!\n"
     ]
    }
   ],
   "source": [
    "# create n pint glasses\n",
    "def create_glasses(n):\n",
    "    return [0] * n\n",
    "\n",
    "# printing out arrangement\n",
    "def display(glasses):\n",
    "    print(\"Glasses:\", glasses)\n",
    "\n",
    "# winning condition\n",
    "def win_if(glasses):\n",
    "    return any(glass > 1 for glass in glasses)\n",
    "\n",
    "# what happens when Ali goes\n",
    "def ali(glasses):\n",
    "    while True:\n",
    "        print(\"Ali's turn:\")\n",
    "        display(glasses)\n",
    "        volumes = input(\"Enter the volumes of water to pour into the glasses (e.g., for n=4, '0.1 0 0.2 0.2'): \")\n",
    "        volumes_list = [float(vol) for vol in volumes.split()]\n",
    "        \n",
    "        # want to make sure Ali adds exactly 1/2 pint during his turn\n",
    "        if sum(volumes_list) == 0.5:\n",
    "            \n",
    "            # check if number of volumes entered is valid\n",
    "            if len(volumes_list) <= len(glasses):\n",
    "                # need to make sure allindices are valid\n",
    "                valid_indices = all(0 <= vol < len(glasses) for vol in volumes_list)\n",
    "                if valid_indices:\n",
    "                    # add volumes to glasses\n",
    "                    for idx, vol in enumerate(volumes_list):\n",
    "                        glasses[idx] += vol\n",
    "                    break\n",
    "                else:\n",
    "                    print(\"Invalid choice. Please enter valid indices.\")\n",
    "            else:\n",
    "                print(\"Too many indices entered. Please enter at most {} indices.\".format(len(glasses)))\n",
    "        else:\n",
    "            print(\"Volume needs to sum up to 0.5 pints. Please try again.\")\n",
    "\n",
    "\n",
    "# what happens when Beth goes\n",
    "def beth(glasses):\n",
    "    while True:\n",
    "        print(\"Beth's turn:\")\n",
    "        display(glasses)\n",
    "        \n",
    "        # asks what glass to empty\n",
    "        choice = input(\"Enter the index of the first glass to empty (0 to n-1): \")\n",
    "        \n",
    "        # makes sure input is valid\n",
    "        if choice.isdigit():\n",
    "            choice = int(choice)\n",
    "            if 0 <= choice < len(glasses):\n",
    "                glasses[choice] = 0\n",
    "                \n",
    "                # remove glass to the right of the one picked (including end case)\n",
    "                glasses[(choice + 1) % len(glasses)] = 0\n",
    "                break\n",
    "            else:\n",
    "                print(\"Invalid choice of index. Try again.\")\n",
    "        else:\n",
    "            print(\"Invalid choice of index. Try again.\")\n",
    "\n",
    "\n",
    "# function to play the game\n",
    "def main():\n",
    "    n = int(input(\"Enter the number of glasses: \"))\n",
    "    glasses = create_glasses(n)\n",
    "\n",
    "    while True:\n",
    "        # players alternate turns\n",
    "        ali(glasses)\n",
    "        if win_if(glasses):\n",
    "            display(glasses)\n",
    "            print(\"Ali wins!\")\n",
    "            break\n",
    "            \n",
    "        beth(glasses)\n",
    "\n",
    "if __name__ == \"__main__\":\n",
    "    main()"
   ]
  },
  {
   "cell_type": "markdown",
   "id": "90538f51-aa7d-45f6-a9ed-bb29a8061d33",
   "metadata": {},
   "source": [
    "### Finding minimum volume of water Ali needs to take from the bar each turn"
   ]
  },
  {
   "cell_type": "code",
   "execution_count": 2,
   "id": "707ece5d-7c16-4da8-ba4c-51f981463793",
   "metadata": {},
   "outputs": [
    {
     "name": "stdout",
     "output_type": "stream",
     "text": [
      "A takes 0.4 pints of water. End volume = 0.82222\n",
      "A takes 0.41 pints of water. End volume = 0.84278\n",
      "A takes 0.42 pints of water. End volume = 0.86333\n",
      "A takes 0.43 pints of water. End volume = 0.88389\n",
      "A takes 0.44 pints of water. End volume = 0.90444\n",
      "A takes 0.45 pints of water. End volume = 0.92500\n",
      "A takes 0.46 pints of water. End volume = 0.94556\n",
      "A takes 0.47 pints of water. End volume = 0.96611\n",
      "A takes 0.48 pints of water. End volume = 0.98667\n",
      "A takes 0.49 pints of water. End volume = 1.00722\n",
      "A takes 0.5 pints of water. End volume = 1.02778\n",
      "\n",
      " Look for the minimum volume:\n",
      "A takes 0.4864 pints of water. End volume = 0.99982\n",
      "A takes 0.4865 pints of water. End volume = 1.00003\n",
      "A takes 0.4866 pints of water. End volume = 1.00023\n",
      "\n",
      " so the minimum volume required is 0.4865 to 4 d.p.\n"
     ]
    }
   ],
   "source": [
    "import numpy as np\n",
    "\n",
    "# know the the minimum value mu is between 0.45 and 0.5, but start from 0.4 for better idea of what's going on\n",
    "xvals = np.linspace(0.4, 0.5, 10)\n",
    "\n",
    "# only care about three glasses as per Ali's winning strategy\n",
    "glasses=[0,0,0]\n",
    "\n",
    "# function to find volume of water at the end of the game\n",
    "def func(water):\n",
    "    glasses = np.ones(3) * water\n",
    "    \n",
    "    # B empties glass 1\n",
    "    glasses[0] = 0\n",
    "    \n",
    "    # find what volume at A2,  \n",
    "    vol = water * 5/9\n",
    "    \n",
    "    # have Ali split water in half between two filled glasses \n",
    "    # Beth empties one of these\n",
    "    # and then in next turn ALi adds all water to final cup\n",
    "    final = (vol + water/2) + water\n",
    "    \n",
    "    print('A takes', \"{:.4g}\".format(water), 'pints of water. End volume =', \"{:.5f}\".format(final))\n",
    "\n",
    "# array of water volumes Ali takes from bar\n",
    "xvals = np.linspace(0.4, 0.5, 11)\n",
    "\n",
    "for i in range(len(xvals)):\n",
    "    func(xvals[i])\n",
    "    \n",
    "\n",
    "print('\\n Look for the minimum volume:') \n",
    "func(0.4864)\n",
    "func(0.4865)\n",
    "func(0.4866)\n",
    "\n",
    "print('\\n so the minimum volume required is 0.4865 to 4 d.p.') "
   ]
  },
  {
   "cell_type": "markdown",
   "id": "5822dd16-eed4-4f9c-80ba-9fc2e9a90676",
   "metadata": {},
   "source": [
    "## Extending\n",
    "\n",
    "Looking at if A splits water equally between some amount of odd-numbered glasses:"
   ]
  },
  {
   "cell_type": "code",
   "execution_count": 3,
   "id": "3defff23-6ac1-4cf7-ab54-49bd89765ccf",
   "metadata": {},
   "outputs": [
    {
     "name": "stdout",
     "output_type": "stream",
     "text": [
      "Sum of 1/(2k) from k=1 to 25 is: 1.9079790888767534\n",
      "Sum of 1/(2k) from k=1 to 26 is: 1.9272098581075225\n",
      "Sum of 1/(2k) from k=1 to 27 is: 1.9457283766260411\n",
      "Sum of 1/(2k) from k=1 to 28 is: 1.963585519483184\n",
      "Sum of 1/(2k) from k=1 to 29 is: 1.9808268987935287\n",
      "Sum of 1/(2k) from k=1 to 30 is: 1.9974935654601953\n",
      "Sum of 1/(2k) from k=1 to 31 is: 2.01362259771826\n",
      "Sum of 1/(2k) from k=1 to 32 is: 2.02924759771826\n",
      "Sum of 1/(2k) from k=1 to 33 is: 2.044399112869775\n",
      "Sum of 1/(2k) from k=1 to 34 is: 2.0591049952227163\n",
      "Sum of 1/(2k) from k=1 to 35 is: 2.0733907095084305\n",
      "\n",
      " Initially thought that we would want to fill 31 glasses (total requires 62) but this forgets each glass can only hold one pint. Back to the drawing board...\n"
     ]
    }
   ],
   "source": [
    "# function that calculates sum [version 1]\n",
    "def sum(n):\n",
    "    total = 0\n",
    "    for i in range(1, n+1):\n",
    "        total += 1 / (2 * i)\n",
    "    return total\n",
    "\n",
    "def test10(k):\n",
    "    array = np.arange(k, k+11, 1)\n",
    "    for i in range(11):\n",
    "        result = sum(array[i])\n",
    "        print(\"Sum of 1/(2k) from k=1 to\", array[i], \"is:\", result)\n",
    "\n",
    "test10(25)\n",
    "print('\\n Initially thought that we would want to fill 31 glasses (total requires 62) but this forgets each glass can only hold one pint. Back to the drawing board...')"
   ]
  },
  {
   "cell_type": "code",
   "execution_count": 4,
   "id": "7067cfdb-e518-4540-a465-a186c7be05cb",
   "metadata": {},
   "outputs": [
    {
     "name": "stdout",
     "output_type": "stream",
     "text": [
      "Sum of 1/(2k) from k=1 to 3 is: 0.16666666666666666\n",
      "Sum of 1/(2k) from k=1 to 4 is: 0.29166666666666663\n",
      "Sum of 1/(2k) from k=1 to 5 is: 0.3916666666666666\n",
      "Sum of 1/(2k) from k=1 to 6 is: 0.4749999999999999\n",
      "Sum of 1/(2k) from k=1 to 7 is: 0.5464285714285714\n",
      "Sum of 1/(2k) from k=1 to 8 is: 0.6089285714285714\n",
      "Sum of 1/(2k) from k=1 to 9 is: 0.664484126984127\n",
      "Sum of 1/(2k) from k=1 to 10 is: 0.714484126984127\n",
      "Sum of 1/(2k) from k=1 to 11 is: 0.7599386724386724\n",
      "Sum of 1/(2k) from k=1 to 12 is: 0.801605339105339\n",
      "Sum of 1/(2k) from k=1 to 13 is: 0.8400668775668775\n"
     ]
    }
   ],
   "source": [
    "# adjusted function to calculate sum [version 2]\n",
    "def newsum(n):\n",
    "    total = 0\n",
    "    for i in range(1, n-1):\n",
    "        total += 1 / (2 * (i+2))\n",
    "    return total\n",
    "\n",
    "def test10(k):\n",
    "    array = np.arange(k, k+11, 1)\n",
    "    for i in range(11):\n",
    "        result = newsum(array[i])\n",
    "        print(\"Sum of 1/(2k) from k=1 to\", array[i], \"is:\", result)\n",
    "\n",
    "test10(3)"
   ]
  },
  {
   "cell_type": "markdown",
   "id": "a12d0379-c255-4a27-948c-fe95c0490d6b",
   "metadata": {},
   "source": [
    "AHA, we need A to fill 13 glasses during his first turn. After 11 rounds of playing and Beth emptying one filled glass each turn, there are just 3 glasses left filled. These will have 0.84006688 pints of water in each of them.\n",
    "\n",
    "### A and C on the same team. Game play through."
   ]
  },
  {
   "cell_type": "code",
   "execution_count": 9,
   "id": "01030e4a-061a-4658-85f8-dbe0141505c5",
   "metadata": {},
   "outputs": [
    {
     "name": "stdout",
     "output_type": "stream",
     "text": [
      "Round 1\n",
      "[0.03846154 0.03846154 0.03846154 0.03846154 0.03846154 0.03846154\n",
      " 0.03846154 0.03846154 0.03846154 0.03846154 0.03846154 0.03846154\n",
      " 0.03846154]\n",
      "Round 2\n",
      "[0.08012821 0.08012821 0.08012821 0.08012821 0.08012821 0.08012821\n",
      " 0.08012821 0.08012821 0.08012821 0.08012821 0.08012821 0.08012821]\n",
      "Round 3\n",
      "[0.12558275 0.12558275 0.12558275 0.12558275 0.12558275 0.12558275\n",
      " 0.12558275 0.12558275 0.12558275 0.12558275 0.12558275]\n",
      "Round 4\n",
      "[0.17558275 0.17558275 0.17558275 0.17558275 0.17558275 0.17558275\n",
      " 0.17558275 0.17558275 0.17558275 0.17558275]\n",
      "Round 5\n",
      "[0.23113831 0.23113831 0.23113831 0.23113831 0.23113831 0.23113831\n",
      " 0.23113831 0.23113831 0.23113831]\n",
      "Round 6\n",
      "[0.29363831 0.29363831 0.29363831 0.29363831 0.29363831 0.29363831\n",
      " 0.29363831 0.29363831]\n",
      "Round 7\n",
      "[0.36506688 0.36506688 0.36506688 0.36506688 0.36506688 0.36506688\n",
      " 0.36506688]\n",
      "Round 8\n",
      "[0.44840021 0.44840021 0.44840021 0.44840021 0.44840021 0.44840021]\n",
      "Round 9\n",
      "[0.54840021 0.54840021 0.54840021 0.54840021 0.54840021]\n",
      "Round 10\n",
      "[0.67340021 0.67340021 0.67340021 0.67340021]\n",
      "Round 11\n",
      "[0.84006688 0.84006688 0.84006688]\n"
     ]
    }
   ],
   "source": [
    "c_n = 13\n",
    "\n",
    "colin_glasses = np.ones(c_n) * 1/(2*c_n)\n",
    "\n",
    "def update(array):\n",
    "    print(array)\n",
    "    k = len(array)\n",
    "    ali = array + np.ones(len(array))* (1 / (2*(k-1)))\n",
    "    beth = ali[1:]\n",
    "    return beth\n",
    "\n",
    "for i in range(1, c_n-1):\n",
    "    print('Round', i)\n",
    "    colin_glasses = update(colin_glasses)"
   ]
  },
  {
   "cell_type": "markdown",
   "id": "311c3065-7006-4bca-8e34-bbb1aaf9ab8f",
   "metadata": {},
   "source": [
    "Total volume for 3 filled glasses =  0.84006688 x 3 = 2.52020064 > 2.5 pints required for Colin to redistribute so him and Ali win!"
   ]
  }
 ],
 "metadata": {
  "kernelspec": {
   "display_name": "Python 3 (ipykernel)",
   "language": "python",
   "name": "python3"
  },
  "language_info": {
   "codemirror_mode": {
    "name": "ipython",
    "version": 3
   },
   "file_extension": ".py",
   "mimetype": "text/x-python",
   "name": "python",
   "nbconvert_exporter": "python",
   "pygments_lexer": "ipython3",
   "version": "3.9.7"
  }
 },
 "nbformat": 4,
 "nbformat_minor": 5
}
